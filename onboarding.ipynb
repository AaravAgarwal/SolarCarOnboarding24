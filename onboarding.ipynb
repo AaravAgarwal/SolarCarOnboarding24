{
 "cells": [
  {
   "cell_type": "markdown",
   "metadata": {},
   "source": [
    "Hello! This is your strategy onboarding assignment. The goal of this assignment is not for you to know everything, but for you to understand how to search for something you do not know. Most tasks in this jupyter notebook will have hints and documentation. If you are still confused, ask one of the leads for help!\n",
    "\n",
    "We will be progressing step by step, and each step will teach you something essential about programming."
   ]
  },
  {
   "cell_type": "code",
   "execution_count": 1,
   "metadata": {},
   "outputs": [],
   "source": [
    "# Step 1: import the required libraries (Hint: use the \"import\" keyword, then list the library you want to import)\n",
    "#Your code here:\n",
    "\n",
    "import pandas as pd\n",
    "import numpy as np\n",
    "import matplotlib as plt\n",
    "import virtualenv\n"
   ]
  },
  {
   "cell_type": "markdown",
   "metadata": {},
   "source": [
    "Step 2: We will be starting of with simple data structures: lists, tuples, dictionaries, sets  \n",
    "\n",
    "Lists: https://www.digitalocean.com/community/tutorials/understanding-lists-in-python-3  \n",
    "Tuples: https://www.digitalocean.com/community/tutorials/understanding-tuples-in-python-3  \n",
    "Dictionaries: https://www.digitalocean.com/community/tutorials/understanding-dictionaries-in-python-3  \n",
    "Sets: https://realpython.com/python-sets/  \n"
   ]
  },
  {
   "cell_type": "code",
   "execution_count": 35,
   "metadata": {},
   "outputs": [],
   "source": [
    "# Make a list, tuple, dictionary and set about sea creautres. For your dictionary, your keys can be numbers and your values the animals. \n",
    "# Make sure to input atleast one duplicate animal in all your data structures.\n",
    "\n",
    "# Your code here\n",
    "\n",
    "l = ['shark', 'octopus', 'seal']\n",
    "t = ('shark','octopus', 'seal')\n",
    "d = {\n",
    "    '1': 'shark',\n",
    "    '2': 'octopus',\n",
    "    '3': 'seal'\n",
    "}\n",
    "s = {'shark', 'octopus', 'seal'}"
   ]
  },
  {
   "cell_type": "code",
   "execution_count": 36,
   "metadata": {},
   "outputs": [
    {
     "name": "stdout",
     "output_type": "stream",
     "text": [
      "['shark', 'octopus', 'seal']\n",
      "('shark', 'octopus', 'seal')\n",
      "{'shark', 'seal', 'octopus'}\n",
      "{'1': 'shark', '2': 'octopus', '3': 'seal'}\n",
      "['shark', 'octopus', 'seal']\n",
      "['squid', 'octopus', 'seal']\n"
     ]
    }
   ],
   "source": [
    "# Print out your data structures. this should be simple for the list, tuple and set. Are you able to print out the dictionary?\n",
    "# Change an animal name in your list, and print it. Why can't you do the same for the tuple?\n",
    "print(l)\n",
    "print(t)\n",
    "print(s)\n",
    "print(d)\n",
    "# Your code here\n",
    "print(list(d.values()))\n",
    "\n",
    "l[0] = 'squid'\n",
    "print(l)\n",
    "#t[0] = 'squid'\n",
    "#print(t)"
   ]
  },
  {
   "cell_type": "markdown",
   "metadata": {},
   "source": [
    "For the dictionary, you will need to use a for loop to print out all the keys and values.\n",
    "\n",
    "What is a for loop? Think of it as a way to access a continous sequence of items in a user-specified range\n",
    "\n",
    "for loops: https://www.programiz.com/python-programming/for-loop\n",
    "\n",
    "if-elif-else loops: https://www.programiz.com/python-programming/if-elif-else\n",
    "\n",
    "Use this information to print a dictionary in the next cell"
   ]
  },
  {
   "cell_type": "code",
   "execution_count": 37,
   "metadata": {},
   "outputs": [
    {
     "name": "stdout",
     "output_type": "stream",
     "text": [
      "['shark', 'octopus', 'seal']\n",
      "['1', '2', '3']\n",
      "6\n",
      "6\n"
     ]
    }
   ],
   "source": [
    "# Your code here\n",
    "print(list(d.values()))\n",
    "print(list(d.keys()))\n",
    "# once you are done with the above, make a while loop to read all the keys in your dictionary and add them up\n",
    "sum = 0\n",
    "for i in range(1, len(d.keys()) + 1):\n",
    "    sum = sum + i\n",
    "print(sum)\n",
    "\n",
    "sum = 0\n",
    "i = 1\n",
    "while i != len(d.keys()) + 1:\n",
    "    sum = sum + i\n",
    "    i = i + 1\n",
    "print(sum)\n",
    "# Hint: thw while condition should be based on the length of the dictionary. if you are stuck, google how to get the length of a dictionary (This ia a bit of a harder problem!)"
   ]
  },
  {
   "cell_type": "markdown",
   "metadata": {},
   "source": [
    "If you have made it this far, congrats! The next part is an introduction to some of the libraries we use.\n",
    "\n",
    "Numpy: https://numpy.org/\n",
    "Pandas: https://pandas.pydata.org/\n",
    "Scipy: https://scipy.org/\n",
    "Matplotlib: https://matplotlib.org/\n",
    "\n",
    "Hint: You DONT need to read through all of this! This is a spot where u can refer to the links when required. Usually, all you have to do is search what particular function you need to use through these libraries!"
   ]
  },
  {
   "cell_type": "code",
   "execution_count": 45,
   "metadata": {},
   "outputs": [
    {
     "name": "stdout",
     "output_type": "stream",
     "text": [
      "  type  latitude  longitude  altitude (m)  vmg (km/h)  course  slope (%)  \\\n",
      "0    T  40.11707  -88.20431         216.3         NaN    13.4        0.3   \n",
      "1    T  40.11717  -88.20426         216.3         NaN    20.9        0.1   \n",
      "2    T  40.11717  -88.20426         216.3         NaN    20.9        NaN   \n",
      "3    T  40.11723  -88.20444         216.3         NaN   293.6       -0.3   \n",
      "4    T  40.11723  -88.20444         216.3         NaN   293.6        NaN   \n",
      "5    T  40.11735  -88.20437         216.3         NaN    24.0        0.3   \n",
      "6    T  40.11745  -88.20432         216.3         NaN    20.9        0.3   \n",
      "\n",
      "   distance (km)  distance_interval (m)  name  desc  \n",
      "0          0.018                  18.27   NaN   NaN  \n",
      "1          0.030                  11.89   NaN   NaN  \n",
      "2          0.030                   0.00   NaN   NaN  \n",
      "3          0.047                  16.73   NaN   NaN  \n",
      "4          0.047                   0.00   NaN   NaN  \n",
      "5          0.061                  14.60   NaN   NaN  \n",
      "6          0.073                  11.89   NaN   NaN  \n",
      "[  0.          11.11111111  22.22222222  33.33333333  44.44444444\n",
      "  55.55555556  66.66666667  77.77777778  88.88888889 100.        ]\n"
     ]
    }
   ],
   "source": [
    "# Read through a csv file (gps_data.csv in Strategy folder) with the pandas library. You can use the \"read_csv\" function. \n",
    "# Use the \"if\"condition to filter our rows where latitude is smaller than 40.11745, and print the resulting rows\n",
    "\n",
    "# Your code here\n",
    "\n",
    "df = pd.read_csv('Strategy\\gps_data.csv')\n",
    "\n",
    "df2 = df[df['latitude'] < 40.1175]\n",
    "print(df2)\n",
    "# Make a linearly spaced numpy array with 10 elements between 0 and 100. Hint: use the \"linspace\" function\n",
    "arr = np.linspace(0,100, num = 10)\n",
    "print(arr)\n",
    "# Your code here\n",
    "\n"
   ]
  }
 ],
 "metadata": {
  "kernelspec": {
   "display_name": "Python 3",
   "language": "python",
   "name": "python3"
  },
  "language_info": {
   "codemirror_mode": {
    "name": "ipython",
    "version": 3
   },
   "file_extension": ".py",
   "mimetype": "text/x-python",
   "name": "python",
   "nbconvert_exporter": "python",
   "pygments_lexer": "ipython3",
   "version": "3.12.2"
  },
  "orig_nbformat": 4
 },
 "nbformat": 4,
 "nbformat_minor": 2
}
