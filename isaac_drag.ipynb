# %% [markdown]
# This jupyter notebook will introduce you to creating physics functions on python. This is a small snippet from both our strategy program and 
# the physics engine. These concepts will help you get accustomed to working on solar car strategy

# %%
# Step 1: Specify the libraries you want to import
import numpy as np
import pandas as pd
import matplotlib.pyplot as plt
import yaml

# Hint: you probably need something more here, figure it out once you read the below cells

# %%
# Step 2: Read the contents of the sample.yaml file, and print them  (Hint: use the yaml library, it is similar to reading from csv without pandas)
with open('sample.yaml') as f:
    yaml_data = yaml.load(f, Loader = yaml.FullLoader)

yaml_data


# %%
type(yaml_data)

# %%
# This function is used for drag:
# It takes in all yaml inputs, and uses a physics equation to calculate the drag force

# In the strategy program, this function would also use time intervals, and continously generate different drag forces based 
# on different inputs coming in at different times

# You don't need to worry about time intervals for now. Use what you need 

def drag_force(yaml_input: tuple) -> float:  # why is yaml_input a tuple?  (Hint: Does the data in the yaml file need to be altered by you?)

        """
        Gets total drag force slowing the car down
        Args:
            velocity: 
                speed (in m/s)
            wind_speed:
                speed of wind (in m/s)
        Returns:
            force (in Newtons)
        Todo:
            Input aero loss function
        """   
        drag_coefficient = yaml_data['drag_coefficient']
        velocity = yaml_data['velocity']
        wind_speed = yaml_data['frontal_wind_speed']
        density = yaml_data['SEA_LEVEL_AIR_DENSITY']
        reference_area = yaml_data['frontal_area']

        aero_loss = drag_coefficient * reference_area * 0.5 * density * (velocity ** 2)
        
        return aero_loss # Sum of the losses

# As you can see, the function is not complete. You need to implement the drag function. Do your research, and find a drag function equation and implement it in python

# Hint: check units of every value you input, Are the units for air density, drag coefficient, velocity, and wind speed consistent?



# %%
drag_force(yaml_data)


