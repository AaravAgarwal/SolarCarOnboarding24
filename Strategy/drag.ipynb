{
 "cells": [
  {
   "cell_type": "markdown",
   "metadata": {},
   "source": [
    "This jupyter notebook will introduce you to creating physics functions on python. This is a small snippet from both our strategy program and \n",
    "the physics engine. These concepts will help you get accustomed to working on solar car strategy"
   ]
  },
  {
   "cell_type": "code",
   "execution_count": 3,
   "metadata": {},
   "outputs": [],
   "source": [
    "# Step 1: Specify the libraries you want to import\n",
    "import numpy as np\n",
    "import pandas as pd\n",
    "import matplotlib.pyplot as plt\n",
    "import yaml\n",
    "\n",
    "# Hint: you probably need something more here, figure it out once you read the below cells"
   ]
  },
  {
   "cell_type": "code",
   "execution_count": 6,
   "metadata": {},
   "outputs": [
    {
     "name": "stdout",
     "output_type": "stream",
     "text": [
      "('start_distance', 0)\n",
      "('start_time', 0)\n",
      "('start_soc', 1.0)\n",
      "('velocity_interval', 5)\n",
      "('time_interval', 1000)\n",
      "('soc_interval', 0.01)\n",
      "('end_time', 2000)\n",
      "('velocity', 15)\n",
      "('frontal_wind_speed', 5)\n",
      "('frontal_area', 0.8)\n",
      "('drag_coefficient', 0.2)\n",
      "('gravitational_acceleration', 9.81)\n",
      "('SEA_LEVEL_AIR_DENSITY', 1.225)\n",
      "('crosswind_speed', 3)\n",
      "('side_area', 0.8)\n",
      "('side_drag_coefficient', 0.1)\n"
     ]
    }
   ],
   "source": [
    "# Step 2: Read the contents of the sample.yaml file, and print them  (Hint: use the yaml library, it is similar to reading from csv without pandas)\n",
    "\n",
    "with open(\"sample.yaml\") as stream:\n",
    "    yaml_data = yaml.safe_load(stream)\n",
    "for item in yaml_data.items():\n",
    "    print(item)\n"
   ]
  },
  {
   "cell_type": "code",
   "execution_count": 7,
   "metadata": {},
   "outputs": [
    {
     "data": {
      "text/plain": [
       "39.20000000000001"
      ]
     },
     "execution_count": 7,
     "metadata": {},
     "output_type": "execute_result"
    }
   ],
   "source": [
    "# This function is used for drag:\n",
    "# It takes in all yaml inputs, and uses a physics equation to calculate the drag force\n",
    "\n",
    "# In the strategy program, this function would also use time intervals, and continously generate different drag forces based \n",
    "# on different inputs coming in at different times\n",
    "\n",
    "# You don't need to worry about time intervals for now. Use what you need \n",
    "\n",
    "def drag_force(yaml_input: tuple) -> float:  # why is yaml_input a tuple?  (Hint: Does the data in the yaml file need to be altered by you?)\n",
    "        return 0.5 * yaml_input[-4] * yaml_input[-6] * yaml_input[-7] * (yaml_input[7] + yaml_input[8]) ** 2\n",
    "drag_force(tuple(yaml_data.values()))\n",
    "# As you can see, the function is not complete. You need to implement the drag function. Do your research, and find a drag function equation and implement it in python\n",
    "\n",
    "# Hint: check units of every value you input, Are the units for air density, drag coefficient, velocity, and wind speed consistent?\n",
    "\n"
   ]
  }
 ],
 "metadata": {
  "kernelspec": {
   "display_name": "Python 3",
   "language": "python",
   "name": "python3"
  },
  "language_info": {
   "codemirror_mode": {
    "name": "ipython",
    "version": 3
   },
   "file_extension": ".py",
   "mimetype": "text/x-python",
   "name": "python",
   "nbconvert_exporter": "python",
   "pygments_lexer": "ipython3",
   "version": "3.11.8"
  },
  "orig_nbformat": 4
 },
 "nbformat": 4,
 "nbformat_minor": 2
}
