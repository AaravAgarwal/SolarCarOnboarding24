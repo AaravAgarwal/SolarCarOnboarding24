{
 "cells": [
  {
   "cell_type": "markdown",
   "metadata": {},
   "source": [
    "This jupyter notebook will introduce you to creating physics functions on python. This is a small snippet from both our strategy program and \n",
    "the physics engine. These concepts will help you get accustomed to working on solar car strategy"
   ]
  },
  {
   "cell_type": "code",
   "execution_count": null,
   "metadata": {},
   "outputs": [],
   "source": [
    "# Step 1: Specify the libraries you want to import\n",
    "import numpy as np\n",
    "import pandas as pd\n",
    "import matplotlib.pyplot as plt\n",
    "\n",
    "# Hint: you probably need something more here, figure it out once you read the below cells"
   ]
  },
  {
   "cell_type": "code",
   "execution_count": null,
   "metadata": {},
   "outputs": [],
   "source": [
    "# Step 2: Read the contents of the sample.yaml file, and print them  (Hint: use the yaml library, it is similar to reading from csv without pandas)\n",
    "\n",
    "# yaml_data = # Your code here\n"
   ]
  },
  {
   "cell_type": "code",
   "execution_count": null,
   "metadata": {},
   "outputs": [],
   "source": [
    "# This function is used for drag:\n",
    "# It takes in all yaml inputs, and uses a physics equation to calculate the drag force\n",
    "\n",
    "# In the strategy program, this function would also use time intervals, and continously generate different drag forces based \n",
    "# on different inputs coming in at different times\n",
    "\n",
    "# You don't need to worry about time intervals for now. Use what you need \n",
    "\n",
    "def drag_force(yaml_input: tuple) -> float:  # why is yaml_input a tuple?  (Hint: Does the data in the yaml file need to be altered by you?)\n",
    "\n",
    "        \"\"\"\n",
    "        Gets total drag force slowing the car down\n",
    "        Args:\n",
    "            velocity: \n",
    "                speed (in m/s)\n",
    "            wind_speed:\n",
    "                speed of wind (in m/s)\n",
    "        Returns:\n",
    "            force (in Newtons)\n",
    "        Todo:\n",
    "            Input aero loss function\n",
    "        \"\"\"   \n",
    "        aero_loss = 0  # Input your drag function here\n",
    "        \n",
    "        return aero_loss # Sum of the losses\n",
    "\n",
    "# As you can see, the function is not complete. You need to implement the drag function. Do your research, and find a drag function equation and implement it in python\n",
    "\n",
    "# Hint: check units of every value you input, Are the units for air density, drag coefficient, velocity, and wind speed consistent?\n",
    "\n"
   ]
  }
 ],
 "metadata": {
  "kernelspec": {
   "display_name": "Python 3",
   "language": "python",
   "name": "python3"
  },
  "language_info": {
   "codemirror_mode": {
    "name": "ipython",
    "version": 3
   },
   "file_extension": ".py",
   "mimetype": "text/x-python",
   "name": "python",
   "nbconvert_exporter": "python",
   "pygments_lexer": "ipython3",
   "version": "3.10.4"
  },
  "orig_nbformat": 4
 },
 "nbformat": 4,
 "nbformat_minor": 2
}
